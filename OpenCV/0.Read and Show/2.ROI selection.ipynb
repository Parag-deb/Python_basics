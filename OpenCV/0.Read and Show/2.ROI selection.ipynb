{
 "cells": [
  {
   "cell_type": "code",
   "execution_count": 2,
   "id": "80f23777",
   "metadata": {},
   "outputs": [],
   "source": [
    "import cv2"
   ]
  },
  {
   "cell_type": "markdown",
   "id": "a3473f0e",
   "metadata": {},
   "source": [
    "### Region OF Interests - ROI using mouse"
   ]
  },
  {
   "cell_type": "code",
   "execution_count": null,
   "id": "d8e12e37",
   "metadata": {},
   "outputs": [
    {
     "name": "stdout",
     "output_type": "stream",
     "text": [
      "(72, 18, 168, 113)\n"
     ]
    }
   ],
   "source": [
    "img = cv2.imread(\"lion.jpg\")\n",
    "\n",
    "roi = cv2.selectROI(img)\n",
    "\n",
    "print(roi) #It returns a tuple: (x, y, width, height)\n",
    "img_cropped = img[int( roi[1]): int(roi[1]+roi[3]),\n",
    "                   int(roi[0]): int(roi[0]+roi[2])]\n",
    "\n",
    "# x = roi[0] → starting horizontal coordinate\n",
    "\n",
    "# y = roi[1] → starting vertical coordinate\n",
    "\n",
    "# w = roi[2] → width of the selected box\n",
    "\n",
    "# h = roi[3] → height of the selected box\n",
    "\n",
    "# img[y : y + h, x : x + w]\n",
    "\n",
    "cv2.imshow(\"cropped img\", img_cropped)\n",
    "cv2.waitKey(0)\n",
    "cv2.destroyAllWindows()"
   ]
  }
 ],
 "metadata": {
  "kernelspec": {
   "display_name": "myenv",
   "language": "python",
   "name": "python3"
  },
  "language_info": {
   "codemirror_mode": {
    "name": "ipython",
    "version": 3
   },
   "file_extension": ".py",
   "mimetype": "text/x-python",
   "name": "python",
   "nbconvert_exporter": "python",
   "pygments_lexer": "ipython3",
   "version": "3.12.10"
  }
 },
 "nbformat": 4,
 "nbformat_minor": 5
}
