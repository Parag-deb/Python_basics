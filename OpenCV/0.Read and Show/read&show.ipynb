{
 "cells": [
  {
   "cell_type": "code",
   "execution_count": 27,
   "id": "e52f1e7d",
   "metadata": {},
   "outputs": [],
   "source": [
    "import cv2\n",
    "import numpy as np\n",
    "import os"
   ]
  },
  {
   "cell_type": "code",
   "execution_count": null,
   "id": "20a2c0dc",
   "metadata": {},
   "outputs": [],
   "source": [
    "img = cv2.imread(\"lion.jpg\")    # read the image ; the image(lion) is int the same directory that's why we here use the name, otherwise we will use the name of the image with the path like- (r\"path\")\n",
    "cv2.imshow(\"Image Frame\", img)  # display the image\n",
    "#cv2.waitKey(10000)             #image frame will be displayed for 10 seconds, (10000ms = 10s)\n",
    "cv2.waitKey(0)                  # wait for a key press\n",
    "cv2.destroyAllWindows()         # close all OpenCV windows\n",
    "#cv2.destroyWindow()            # close the window with the given name"
   ]
  },
  {
   "cell_type": "markdown",
   "id": "22716309",
   "metadata": {},
   "source": [
    "### destroyallwindow vs  destroywindow"
   ]
  },
  {
   "cell_type": "code",
   "execution_count": null,
   "id": "725b0f82",
   "metadata": {},
   "outputs": [],
   "source": [
    "img = cv2.imread(\"lion.jpg\")        # read the image\n",
    "cv2.imshow(\"Image Frame\", img)      # display the image\n",
    "cv2.imshow(\"Image Frame1\", img)     # display the image\n",
    "#cv2.waitKey(10000)                 #image frame will be displayed for 10 seconds, (10000ms = 10s)\n",
    "cv2.waitKey(0)                      # wait for a key press\n",
    "#cv2.destroyAllWindows()            # close all OpenCV windows\n",
    "cv2.destroyWindow(\"Image Frame1\")  # close the window with the given name"
   ]
  },
  {
   "cell_type": "markdown",
   "id": "10fcece6",
   "metadata": {},
   "source": [
    "### Resize the image"
   ]
  },
  {
   "cell_type": "code",
   "execution_count": 17,
   "id": "acb89951",
   "metadata": {},
   "outputs": [],
   "source": [
    "img = cv2.imread(\"lion.jpg\")                # read the image\n",
    "resize_img = cv2.resize(img, (1000, 1000))    # resize the image (width, height)\n",
    "cv2.imshow(\"Image Frame\", resize_img)       # display the image             \n",
    "cv2.waitKey(0)                              # wait for a key press\n",
    "cv2.destroyAllWindows()                     # close all OpenCV windows"
   ]
  },
  {
   "cell_type": "markdown",
   "id": "49ae2d95",
   "metadata": {},
   "source": [
    "### Multiple image in one frame "
   ]
  },
  {
   "cell_type": "code",
   "execution_count": null,
   "id": "5fe33c98",
   "metadata": {},
   "outputs": [],
   "source": [
    "# img = cv2.imread(\"lion.jpg\")\n",
    "# print(img)\n",
    "img = cv2.imread(\"lion.jpg\")                # read the image\n",
    "resize_img = cv2.resize(img, (300, 300))    # resize the image (width, height)\n",
    "horizontal_add = np.hstack((resize_img,resize_img)) # stack/add horizontally\n",
    "verical_add = np.vstack((resize_img,resize_img))    # stack/add vertically\n",
    "multiple_add = np.vstack((horizontal_add,horizontal_add))\n",
    "cv2.imshow(\"Image Frame\", horizontal_add)     # display the image      \n",
    "cv2.imshow(\"Image Frame1\", verical_add)       # display the image\n",
    "cv2.imshow(\"image Frame2\", multiple_add )     #merge 4 image\n",
    "cv2.waitKey(0)                              # wait for a key press\n",
    "cv2.destroyAllWindows()                     # close all OpenCV windows"
   ]
  },
  {
   "cell_type": "markdown",
   "id": "61b2c026",
   "metadata": {},
   "source": [
    "### Slideshow"
   ]
  },
  {
   "cell_type": "code",
   "execution_count": 34,
   "id": "075e5c97",
   "metadata": {},
   "outputs": [],
   "source": [
    "image_list = os.listdir(r\"E:\\Python\\OpenCV\\0.Read and Show\\lion_image\")\n",
    "for name in image_list:\n",
    "    path = \"E:\\\\Python\\\\OpenCV\\\\0.Read and Show\\\\lion_image\"\n",
    "    image_name = path + \"\\\\\" + name\n",
    "    img = cv2.imread(image_name)   #storing all images in one frame\n",
    "    img = cv2.resize(img, (300, 300))\n",
    "    cv2.imshow(\"Image Frame \",img)\n",
    "    #cv2.waitKey(3000) # show automatically\n",
    "    cv2.waitKey(0) # show until key is pressed\n",
    "cv2.destroyAllWindows()\n"
   ]
  }
 ],
 "metadata": {
  "kernelspec": {
   "display_name": "Python 3",
   "language": "python",
   "name": "python3"
  },
  "language_info": {
   "codemirror_mode": {
    "name": "ipython",
    "version": 3
   },
   "file_extension": ".py",
   "mimetype": "text/x-python",
   "name": "python",
   "nbconvert_exporter": "python",
   "pygments_lexer": "ipython3",
   "version": "3.12.10"
  }
 },
 "nbformat": 4,
 "nbformat_minor": 5
}
