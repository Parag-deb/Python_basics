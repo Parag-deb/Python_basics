{
 "cells": [
  {
   "cell_type": "code",
   "execution_count": 2,
   "id": "e52f1e7d",
   "metadata": {},
   "outputs": [],
   "source": [
    "import cv2\n",
    "import numpy as np\n",
    "import os"
   ]
  },
  {
   "cell_type": "code",
   "execution_count": null,
   "id": "20a2c0dc",
   "metadata": {},
   "outputs": [],
   "source": [
    "img = cv2.imread(\"lion.jpg\")    # read the image ; the image(lion) is int the same directory that's why we here use the name, otherwise we will use the name of the image with the path like- (r\"path\")\n",
    "cv2.imshow(\"Image Frame\", img)  # display the image\n",
    "#cv2.waitKey(10000)             #image frame will be displayed for 10 seconds, (10000ms = 10s)\n",
    "cv2.waitKey(0)                  # wait for a key press\n",
    "cv2.destroyAllWindows()         # close all OpenCV windows\n",
    "#cv2.destroyWindow()            # close the window with the given name"
   ]
  },
  {
   "cell_type": "markdown",
   "id": "22716309",
   "metadata": {},
   "source": [
    "### destroyallwindow vs  destroywindow"
   ]
  },
  {
   "cell_type": "code",
   "execution_count": null,
   "id": "725b0f82",
   "metadata": {},
   "outputs": [],
   "source": [
    "img = cv2.imread(\"lion.jpg\")        # read the image\n",
    "cv2.imshow(\"Image Frame\", img)      # display the image\n",
    "cv2.imshow(\"Image Frame1\", img)     # display the image\n",
    "#cv2.waitKey(10000)                 #image frame will be displayed for 10 seconds, (10000ms = 10s)\n",
    "cv2.waitKey(0)                      # wait for a key press\n",
    "#cv2.destroyAllWindows()            # close all OpenCV windows\n",
    "cv2.destroyWindow(\"Image Frame1\")  # close the window with the given name"
   ]
  },
  {
   "cell_type": "markdown",
   "id": "10fcece6",
   "metadata": {},
   "source": [
    "### Resize the image"
   ]
  },
  {
   "cell_type": "code",
   "execution_count": 17,
   "id": "acb89951",
   "metadata": {},
   "outputs": [],
   "source": [
    "img = cv2.imread(\"lion.jpg\")                # read the image\n",
    "resize_img = cv2.resize(img, (1000, 1000))    # resize the image (width, height)\n",
    "cv2.imshow(\"Image Frame\", resize_img)       # display the image             \n",
    "cv2.waitKey(0)                              # wait for a key press\n",
    "cv2.destroyAllWindows()                     # close all OpenCV windows"
   ]
  },
  {
   "cell_type": "markdown",
   "id": "49ae2d95",
   "metadata": {},
   "source": [
    "### Multiple image in one frame "
   ]
  },
  {
   "cell_type": "code",
   "execution_count": null,
   "id": "5fe33c98",
   "metadata": {},
   "outputs": [],
   "source": [
    "# img = cv2.imread(\"lion.jpg\")\n",
    "# print(img)\n",
    "img = cv2.imread(\"lion.jpg\")                # read the image\n",
    "resize_img = cv2.resize(img, (300, 300))    # resize the image (width, height)\n",
    "horizontal_add = np.hstack((resize_img,resize_img)) # stack/add horizontally\n",
    "verical_add = np.vstack((resize_img,resize_img))    # stack/add vertically\n",
    "multiple_add = np.vstack((horizontal_add,horizontal_add))\n",
    "cv2.imshow(\"Image Frame\", horizontal_add)     # display the image      \n",
    "cv2.imshow(\"Image Frame1\", verical_add)       # display the image\n",
    "cv2.imshow(\"image Frame2\", multiple_add )     #merge 4 image\n",
    "cv2.waitKey(0)                              # wait for a key press\n",
    "cv2.destroyAllWindows()                     # close all OpenCV windows"
   ]
  },
  {
   "cell_type": "markdown",
   "id": "61b2c026",
   "metadata": {},
   "source": [
    "### Slideshow"
   ]
  },
  {
   "cell_type": "code",
   "execution_count": 34,
   "id": "075e5c97",
   "metadata": {},
   "outputs": [],
   "source": [
    "image_list = os.listdir(r\"E:\\Python\\OpenCV\\0.Read and Show\\lion_image\")\n",
    "for name in image_list:\n",
    "    path = \"E:\\\\Python\\\\OpenCV\\\\0.Read and Show\\\\lion_image\"\n",
    "    image_name = path + \"\\\\\" + name\n",
    "    img = cv2.imread(image_name)   #storing all images in one frame\n",
    "    img = cv2.resize(img, (300, 300))\n",
    "    cv2.imshow(\"Image Frame \",img)\n",
    "    #cv2.waitKey(3000) # show automatically\n",
    "    cv2.waitKey(0) # show until key is pressed\n",
    "cv2.destroyAllWindows()\n"
   ]
  },
  {
   "cell_type": "markdown",
   "id": "a96b71c0",
   "metadata": {},
   "source": [
    "### Features"
   ]
  },
  {
   "cell_type": "code",
   "execution_count": 7,
   "id": "dc7a8189",
   "metadata": {},
   "outputs": [],
   "source": [
    "img = cv2.imread(\"lion.jpg\", 0) # flag ->0 = Gray Scale\n",
    "cv2.imshow(\"Image Frame\", img)\n",
    "cv2.waitKey(0)\n",
    "cv2.destroyAllWindows()"
   ]
  },
  {
   "cell_type": "markdown",
   "id": "ab1a0431",
   "metadata": {},
   "source": [
    "### Writing on the Image"
   ]
  },
  {
   "cell_type": "code",
   "execution_count": 15,
   "id": "3e413552",
   "metadata": {},
   "outputs": [],
   "source": [
    "img = cv2.imread(\"lion.jpg\")\n",
    "\n",
    "\n",
    "\n",
    "txt = cv2.putText(img = img,\n",
    "                    text = \"Lion\",\n",
    "                    org = (70, 100), \n",
    "                    fontFace = cv2.FONT_HERSHEY_DUPLEX,\n",
    "                    fontScale = 3,\n",
    "                    color = (0,0,255),\n",
    "                    thickness = 3,\n",
    "                    lineType = cv2.LINE_8,\n",
    "                    # bottomLeftOrigin = True\n",
    "                    bottomLeftOrigin = False)   #((img: UMat, text: str, org: Point, fontFace: int, fontScale: float, color: Scalar, thickness: int = ..., lineType: int = ..., bottomLeftOrigin: bool = ...) -> UMat) \n",
    "cv2.imshow(\"Image Frame\", img)\n",
    "cv2.waitKey(0)\n",
    "cv2.destroyAllWindows()"
   ]
  },
  {
   "cell_type": "markdown",
   "id": "6631eb31",
   "metadata": {},
   "source": [
    "### Drawing line on image"
   ]
  },
  {
   "cell_type": "code",
   "execution_count": null,
   "id": "9ce06c67",
   "metadata": {},
   "outputs": [],
   "source": [
    "old_img = cv2.imread(\"lion.jpg\")\n",
    "old_img = cv2.resize(old_img,(500,700))\n",
    "new_img = cv2.line(img = old_img , pt1 = (250,200), pt2 =(350,200), color =(0,255,0), thickness = 4, lineType = 4) #def line(img: MatLike, pt1: Point,Point,color: Scalar,thickness: int = ...,lineType: int = ...,shift: int = ...)\n",
    "\n",
    "cv2.imshow(\"Image Frame\", new_img)\n",
    "cv2.waitKey(0)\n",
    "cv2.destroyAllWindows()"
   ]
  },
  {
   "cell_type": "markdown",
   "id": "668bc4c8",
   "metadata": {},
   "source": [
    "### Draw Rectangle"
   ]
  },
  {
   "cell_type": "code",
   "execution_count": 36,
   "id": "fc7b642b",
   "metadata": {},
   "outputs": [],
   "source": [
    "old_img = cv2.imread(\"lion.jpg\")\n",
    "old_img = cv2.resize(old_img,(500,700))\n",
    "txt_img = cv2.putText(img = old_img , text = \"Lion\", org = (330,60), fontFace = 1, fontScale = 2, color = (0,0,255), thickness = 2, lineType = 2 , bottomLeftOrigin = False)\n",
    "new_img = cv2.rectangle(img = txt_img, pt1 = (200,70), pt2 = (400,550), color=(0,255,0), thickness = 4, lineType = 4) #def rectangle(img: MatLike,pt1: Point, pt2: Point,color: Scalar,thickness: int = ...,lineType: int = ...,shift: int = ...)\n",
    "\n",
    "cv2.imshow(\"Image Frame\", new_img)\n",
    "cv2.waitKey(0)\n",
    "cv2.destroyAllWindows()"
   ]
  },
  {
   "cell_type": "markdown",
   "id": "6e45b6ed",
   "metadata": {},
   "source": [
    "### Draw Circle"
   ]
  },
  {
   "cell_type": "code",
   "execution_count": 42,
   "id": "1d2aed19",
   "metadata": {},
   "outputs": [],
   "source": [
    "old_img = cv2.imread(\"lion.jpg\")\n",
    "old_img = cv2.resize(old_img,(500,700))\n",
    "new_img = cv2.circle(img = old_img, center = (300,250), radius = 200, color = (0,0,255), thickness = 4, lineType = 8)\n",
    "cv2.imshow(\"Image Frame\", new_img)\n",
    "cv2.waitKey(0)\n",
    "cv2.destroyAllWindows()"
   ]
  },
  {
   "cell_type": "markdown",
   "id": "e101d8fe",
   "metadata": {},
   "source": [
    "### Draw Polylines"
   ]
  },
  {
   "cell_type": "code",
   "execution_count": 47,
   "id": "6bf14a63",
   "metadata": {},
   "outputs": [],
   "source": [
    "old_img = cv2.imread(\"lion.jpg\")\n",
    "old_img = cv2.resize(old_img,(500,700))\n",
    "new_img = cv2.polylines(img = old_img, pts = [np.array([[100,300],[150,100],[200,300],[200,600],[100,600]])], isClosed = True, color = (0,255,0), thickness=4, lineType=16)\n",
    "cv2.imshow(\"Image Frame\", new_img)\n",
    "cv2.waitKey(0)\n",
    "cv2.destroyAllWindows()"
   ]
  },
  {
   "cell_type": "markdown",
   "id": "f778629d",
   "metadata": {},
   "source": [
    "### Merge Image"
   ]
  },
  {
   "cell_type": "code",
   "execution_count": 56,
   "id": "67ace93e",
   "metadata": {},
   "outputs": [],
   "source": [
    "img1 = cv2.imread(\"lion.jpg\")\n",
    "img2 = cv2.imread(\"lion1.jpg\")\n",
    "img1 = cv2.resize(img1,(500,500))\n",
    "img2 = cv2.resize(img2,(500,500))\n",
    "new_img = cv2.addWeighted(img1, 0.5, img2, 0.7, 1)\n",
    "cv2.imshow(\"Image Frame\", new_img)\n",
    "cv2.waitKey(0)\n",
    "cv2.destroyAllWindows()"
   ]
  },
  {
   "cell_type": "markdown",
   "id": "09041bf6",
   "metadata": {},
   "source": [
    "### Detect Edges"
   ]
  },
  {
   "cell_type": "code",
   "execution_count": 62,
   "id": "348edd28",
   "metadata": {},
   "outputs": [],
   "source": [
    "img = cv2.imread(\"lion.jpg\")\n",
    "new_img = cv2.Canny(img,200,200)\n",
    "cv2.imshow(\"Image Frame\", new_img)\n",
    "cv2.waitKey(0)\n",
    "cv2.destroyAllWindows()"
   ]
  },
  {
   "cell_type": "markdown",
   "id": "94186b5a",
   "metadata": {},
   "source": [
    "### Blur Image"
   ]
  },
  {
   "cell_type": "code",
   "execution_count": 78,
   "id": "d014bc77",
   "metadata": {},
   "outputs": [],
   "source": [
    "img = cv2.imread(\"lion.jpg\")\n",
    "\n",
    "g = cv2.GaussianBlur(img,(5,5),0)  # Gaussian Blur\n",
    "m = cv2.medianBlur(img,5)  # Median Blur\n",
    "b = cv2.bilateralFilter(img,9,100,100)  # Bilateral Filter\n",
    "h = np.hstack((img,g,m,b))\n",
    "cv2.imwrite(r\"E:\\Python\\OpenCV\\0.Read and Show\\lion_image\\blur.png\", h) # Save the image to the given folder\n",
    "cv2.imshow(\"Image Frame\", h)\n",
    "cv2.waitKey(0)\n",
    "cv2.destroyAllWindows()"
   ]
  }
 ],
 "metadata": {
  "kernelspec": {
   "display_name": "Python 3",
   "language": "python",
   "name": "python3"
  },
  "language_info": {
   "codemirror_mode": {
    "name": "ipython",
    "version": 3
   },
   "file_extension": ".py",
   "mimetype": "text/x-python",
   "name": "python",
   "nbconvert_exporter": "python",
   "pygments_lexer": "ipython3",
   "version": "3.12.10"
  }
 },
 "nbformat": 4,
 "nbformat_minor": 5
}
