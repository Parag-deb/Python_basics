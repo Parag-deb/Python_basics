{
 "cells": [
  {
   "cell_type": "code",
   "execution_count": 5,
   "id": "e52f1e7d",
   "metadata": {},
   "outputs": [],
   "source": [
    "import cv2"
   ]
  },
  {
   "cell_type": "code",
   "execution_count": 6,
   "id": "20a2c0dc",
   "metadata": {},
   "outputs": [],
   "source": [
    "img = cv2.imread(\"lion.jpg\")        # read the image\n",
    "cv2.imshow(\"Image Frame\", img)  # display the image\n",
    "#cv2.waitKey(10000)         #image frame will be displayed for 10 seconds, (10000ms = 10s)\n",
    "cv2.waitKey(0)              # wait for a key press\n",
    "cv2.destroyAllWindows()     # close all OpenCV windows\n",
    "#cv2.destroyWindow()         # close the window with the given name"
   ]
  },
  {
   "cell_type": "markdown",
   "id": "22716309",
   "metadata": {},
   "source": [
    "### destroyallwindow vs  destroywindow"
   ]
  },
  {
   "cell_type": "code",
   "execution_count": null,
   "id": "725b0f82",
   "metadata": {},
   "outputs": [],
   "source": [
    "img = cv2.imread(\"lion.jpg\")        # read the image\n",
    "cv2.imshow(\"Image Frame\", img)      # display the image\n",
    "cv2.imshow(\"Image Frame1\", img)     # display the image\n",
    "#cv2.waitKey(10000)                 #image frame will be displayed for 10 seconds, (10000ms = 10s)\n",
    "cv2.waitKey(0)                      # wait for a key press\n",
    "#cv2.destroyAllWindows()            # close all OpenCV windows\n",
    "cv2.destroyWindow(\"Image Frame1\")  # close the window with the given name"
   ]
  }
 ],
 "metadata": {
  "kernelspec": {
   "display_name": "Python 3",
   "language": "python",
   "name": "python3"
  },
  "language_info": {
   "codemirror_mode": {
    "name": "ipython",
    "version": 3
   },
   "file_extension": ".py",
   "mimetype": "text/x-python",
   "name": "python",
   "nbconvert_exporter": "python",
   "pygments_lexer": "ipython3",
   "version": "3.12.10"
  }
 },
 "nbformat": 4,
 "nbformat_minor": 5
}
