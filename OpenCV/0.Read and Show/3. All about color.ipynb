{
 "cells": [
  {
   "cell_type": "code",
   "execution_count": 2,
   "id": "5f5014e4",
   "metadata": {},
   "outputs": [],
   "source": [
    "import cv2\n",
    "import numpy as np"
   ]
  },
  {
   "cell_type": "markdown",
   "id": "d263d424",
   "metadata": {},
   "source": [
    "#### Color spaces:\n",
    "##### 1. RGB (Red, Green, Blue) in openCV it is BGR\n",
    "##### 2. CMYK (Cyan, Magenta, Yellow, Black)\n",
    "##### 3. HSV (Hue , Saturation, Value)"
   ]
  },
  {
   "cell_type": "markdown",
   "id": "6277d255",
   "metadata": {},
   "source": [
    "### Create a Color Picker"
   ]
  },
  {
   "cell_type": "code",
   "execution_count": null,
   "id": "2058601b",
   "metadata": {},
   "outputs": [],
   "source": [
    "def onchangeFunc(x):\n",
    "    pass\n",
    "\n",
    "img = np.zeros((500,500,3),np.uint8)*255\n",
    "\n",
    "cv2.namedWindow(\"colour\")\n",
    "\n",
    "cv2.createTrackbar(\"Red\", \"colour\", 0,255,onchangeFunc)\n",
    "cv2.createTrackbar(\"Green\", \"colour\", 0,255,onchangeFunc)\n",
    "cv2.createTrackbar(\"Blue\", \"colour\", 0,255,onchangeFunc)\n",
    "\n",
    "while True:\n",
    "    cv2.imshow(\"colour\", img)\n",
    "    if cv2.waitKey(1) & 0xff == ord(\"p\"):\n",
    "        break\n",
    "    r = cv2.getTrackbarPos(\"Red\",\"colour\")\n",
    "    g = cv2.getTrackbarPos(\"Green\",\"colour\")\n",
    "    b = cv2.getTrackbarPos(\"Blue\",\"colour\")\n",
    "\n",
    "\n",
    "    img[:] = [b,g,r]  # img[:] = select every pixels of img\n",
    "\n",
    "\n",
    "cv2.destroyAllWindows() \n"
   ]
  }
 ],
 "metadata": {
  "kernelspec": {
   "display_name": "myenv",
   "language": "python",
   "name": "python3"
  },
  "language_info": {
   "codemirror_mode": {
    "name": "ipython",
    "version": 3
   },
   "file_extension": ".py",
   "mimetype": "text/x-python",
   "name": "python",
   "nbconvert_exporter": "python",
   "pygments_lexer": "ipython3",
   "version": "3.12.10"
  }
 },
 "nbformat": 4,
 "nbformat_minor": 5
}
