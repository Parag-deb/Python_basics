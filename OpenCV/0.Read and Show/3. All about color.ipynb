{
 "cells": [
  {
   "cell_type": "code",
   "execution_count": 3,
   "id": "5f5014e4",
   "metadata": {},
   "outputs": [],
   "source": [
    "import cv2\n",
    "import numpy as np"
   ]
  },
  {
   "cell_type": "markdown",
   "id": "d263d424",
   "metadata": {},
   "source": [
    "#### Color spaces:\n",
    "##### 1. RGB (Red, Green, Blue) in openCV it is BGR\n",
    "##### 2. CMYK (Cyan, Magenta, Yellow, Black)\n",
    "##### 3. HSV (Hue , Saturation, Value)"
   ]
  },
  {
   "cell_type": "markdown",
   "id": "6277d255",
   "metadata": {},
   "source": [
    "### Create a COlor Picker"
   ]
  },
  {
   "cell_type": "code",
   "execution_count": null,
   "id": "2058601b",
   "metadata": {},
   "outputs": [],
   "source": [
    "img = np.zeros((500,500,3),np.uint8)*255\n",
    "\n",
    "\n",
    "cv2.imshow(\"Frame\", img)\n",
    "cv2.waitKey(0)\n",
    "cv2.destroyAllWindows() "
   ]
  }
 ],
 "metadata": {
  "kernelspec": {
   "display_name": "myenv",
   "language": "python",
   "name": "python3"
  },
  "language_info": {
   "codemirror_mode": {
    "name": "ipython",
    "version": 3
   },
   "file_extension": ".py",
   "mimetype": "text/x-python",
   "name": "python",
   "nbconvert_exporter": "python",
   "pygments_lexer": "ipython3",
   "version": "3.12.10"
  }
 },
 "nbformat": 4,
 "nbformat_minor": 5
}
