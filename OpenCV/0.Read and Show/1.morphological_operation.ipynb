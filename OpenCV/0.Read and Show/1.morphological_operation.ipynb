{
 "cells": [
  {
   "cell_type": "code",
   "execution_count": 16,
   "id": "17c803fd",
   "metadata": {},
   "outputs": [],
   "source": [
    "import cv2\n",
    "import numpy as np"
   ]
  },
  {
   "cell_type": "markdown",
   "id": "ff7c397c",
   "metadata": {},
   "source": [
    "### Erosion"
   ]
  },
  {
   "cell_type": "code",
   "execution_count": 10,
   "id": "55e56b96",
   "metadata": {},
   "outputs": [],
   "source": [
    "img = cv2.imread(\"binary1.JPG\")\n",
    "img = cv2.resize(img,(500,500))\n",
    "\n",
    "m = np.ones((20,20),np.int8)\n",
    "erosion = cv2.erode(img, m, iterations = 1)  # iterations = 5 means , it will iterate 5 times\n",
    "\n",
    "cv2.imshow(\"Binary Image\", img)\n",
    "cv2.imshow(\"Binary Image - Erosion\", erosion)\n",
    "cv2.waitKey(0)\n",
    "cv2.destroyAllWindows()"
   ]
  },
  {
   "cell_type": "markdown",
   "id": "ff82852f",
   "metadata": {},
   "source": [
    "### Dilation -> expands white/brighter regions"
   ]
  },
  {
   "cell_type": "code",
   "execution_count": null,
   "id": "a9d071b3",
   "metadata": {},
   "outputs": [],
   "source": [
    "img = cv2.imread(\"binary1.JPG\")\n",
    "img = cv2.resize(img,(500,500))\n",
    "\n",
    "k = np.ones((20,20),np.int8) # k or kernel is a 2D array of size 20x20 with all elements as 1\n",
    "# for each pixel in the image, look at a 20x20 neighborhood around it.\n",
    "# If any pixel in that area is white (255), make the center pixel white too\n",
    "\n",
    "dilation = cv2.dilate(img, k, iterations = 1)  # iterations = 5 means , it will iterate 5 times\n",
    "\n",
    "cv2.imshow(\"Binary Image\", img)\n",
    "cv2.imshow(\"Binary Image - Dilation\", dilation)\n",
    "cv2.waitKey(0)\n",
    "cv2.destroyAllWindows()"
   ]
  },
  {
   "cell_type": "markdown",
   "id": "91c73c7e",
   "metadata": {},
   "source": [
    "### Opening -> white noise reduce"
   ]
  },
  {
   "cell_type": "code",
   "execution_count": 18,
   "id": "49d29bc3",
   "metadata": {},
   "outputs": [],
   "source": [
    "img = cv2.imread(\"binary4.png\")\n",
    "img = cv2.resize(img,(500,500))\n",
    "\n",
    "k = np.ones((20,20),np.int8) # k or kernel is a 2D array of size 20x20 with all elements as 1\n",
    "opening = cv2.morphologyEx(img, cv2.MORPH_OPEN, k , iterations = 1)  # iterations = 5 means , it will iterate 5 times\n",
    "\n",
    "cv2.imshow(\"Binary Image\", img)\n",
    "cv2.imshow(\"Binary Image - Opening\", opening)\n",
    "cv2.waitKey(0)\n",
    "cv2.destroyAllWindows()"
   ]
  },
  {
   "cell_type": "markdown",
   "id": "92bb08b0",
   "metadata": {},
   "source": [
    "### CLosing -> Black noise reduce"
   ]
  },
  {
   "cell_type": "code",
   "execution_count": null,
   "id": "5bd5f2fa",
   "metadata": {},
   "outputs": [],
   "source": [
    "img = cv2.imread(\"binary3.jpg\")\n",
    "img = cv2.resize(img,(500,500))\n",
    "\n",
    "k = np.ones((20,20),np.int8) # k or kernel is a 2D array of size 20x20 with all elements as 1\n",
    "closing = cv2.morphologyEx(img, cv2.MORPH_CLOSE, k , iterations = 1)  # iterations = 5 means , it will iterate 5 times\n",
    "\n",
    "cv2.imshow(\"Binary Image\", img)\n",
    "cv2.imshow(\"Binary Image - CLosing\", closing)\n",
    "cv2.waitKey(0)\n",
    "cv2.destroyAllWindows()"
   ]
  },
  {
   "cell_type": "markdown",
   "id": "19a4f738",
   "metadata": {},
   "source": [
    "### Gradient"
   ]
  },
  {
   "cell_type": "code",
   "execution_count": 21,
   "id": "303f8d1e",
   "metadata": {},
   "outputs": [],
   "source": [
    "img = cv2.imread(\"binary1.JPG\")\n",
    "img = cv2.resize(img,(500,500))\n",
    "\n",
    "k  = np.ones((20,20), np.int8) # kernel size 20x20, np.int8 means ->8 bit integer\n",
    "\n",
    "gradient = cv2.morphologyEx(img, cv2.MORPH_GRADIENT, k, iterations = 1)\n",
    "\n",
    "cv2.imshow(\"Bianary Image\", img)\n",
    "cv2.imshow(\"Binary Image Gradient\", gradient)\n",
    "\n",
    "cv2.waitKey(0)\n",
    "cv2.destroyAllWindows()\n",
    "\n"
   ]
  }
 ],
 "metadata": {
  "kernelspec": {
   "display_name": "Python 3",
   "language": "python",
   "name": "python3"
  },
  "language_info": {
   "codemirror_mode": {
    "name": "ipython",
    "version": 3
   },
   "file_extension": ".py",
   "mimetype": "text/x-python",
   "name": "python",
   "nbconvert_exporter": "python",
   "pygments_lexer": "ipython3",
   "version": "3.12.10"
  }
 },
 "nbformat": 4,
 "nbformat_minor": 5
}
