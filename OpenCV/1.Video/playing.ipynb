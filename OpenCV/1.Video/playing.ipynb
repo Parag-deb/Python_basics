{
 "cells": [
  {
   "cell_type": "code",
   "execution_count": 1,
   "id": "60240f98",
   "metadata": {},
   "outputs": [],
   "source": [
    "import cv2"
   ]
  },
  {
   "cell_type": "markdown",
   "id": "2b1c7f37",
   "metadata": {},
   "source": [
    "### Showing Video Using Frame"
   ]
  },
  {
   "cell_type": "code",
   "execution_count": 8,
   "id": "05165e0c",
   "metadata": {},
   "outputs": [],
   "source": [
    "capture = cv2.VideoCapture(r\"D:\\DSA Roadmap.mp4\")\n",
    "while capture.isOpened():\n",
    "    ret, frame = capture.read()  # here capture.read() returns two values -> rate is a boolean value (if video is opened then the value will ture, otherwise false ) and frame is a numpy array\n",
    "    if ret == True:\n",
    "        frame = cv2.resize(frame,(500,500))\n",
    "        cv2.imshow(\"Video Frame\", frame)\n",
    "        if cv2.waitKey(1) & 0xFF == ord('q'):  # waitKey(0) = static , we can change the speed by changing the value in waitkey(unit : frame/s)\n",
    "            break\n",
    "    else:\n",
    "        break\n",
    "\n",
    "capture.release()\n",
    "cv2.destroyAllWindows()"
   ]
  },
  {
   "cell_type": "markdown",
   "id": "51c7408f",
   "metadata": {},
   "source": [
    "### Opening the device Camera"
   ]
  },
  {
   "cell_type": "code",
   "execution_count": null,
   "id": "eb2baa9e",
   "metadata": {},
   "outputs": [],
   "source": [
    "capture = cv2.VideoCapture(0) # 0 is the default camera index, to open the camera\n",
    "while True :\n",
    "    ret, frame = capture.read()\n",
    "    if ret == True :\n",
    "        frame = cv2.resize(frame,(500,500))\n",
    "        cv2.imshow(\"Vodeo Frame\",frame)\n",
    "        if cv2.waitKey(25) & 0xFF == ord('q') :\n",
    "            break\n",
    "    else :\n",
    "        break\n",
    "\n",
    "capture.release()\n",
    "cv2.destroyAllWindows()\n"
   ]
  }
 ],
 "metadata": {
  "kernelspec": {
   "display_name": "Python 3",
   "language": "python",
   "name": "python3"
  },
  "language_info": {
   "codemirror_mode": {
    "name": "ipython",
    "version": 3
   },
   "file_extension": ".py",
   "mimetype": "text/x-python",
   "name": "python",
   "nbconvert_exporter": "python",
   "pygments_lexer": "ipython3",
   "version": "3.12.10"
  }
 },
 "nbformat": 4,
 "nbformat_minor": 5
}
