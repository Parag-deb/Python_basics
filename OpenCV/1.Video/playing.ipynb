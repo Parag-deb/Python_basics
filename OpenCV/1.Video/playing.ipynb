{
 "cells": [
  {
   "cell_type": "code",
   "execution_count": 3,
   "id": "60240f98",
   "metadata": {},
   "outputs": [],
   "source": [
    "import cv2"
   ]
  },
  {
   "cell_type": "markdown",
   "id": "2b1c7f37",
   "metadata": {},
   "source": [
    "### Showing Video Using Frame"
   ]
  },
  {
   "cell_type": "code",
   "execution_count": null,
   "id": "05165e0c",
   "metadata": {},
   "outputs": [],
   "source": [
    "capture = cv2.VideoCapture(r\"D:\\DSA Roadmap.mp4\")\n",
    "while capture.isOpened():\n",
    "    ret, frame = capture.read()  # here capture.read() returns two values -> rate is a boolean value (if video is opened then the value will ture, otherwise false ) and frame is a numpy array\n",
    "    if ret == True:\n",
    "        frame = cv2.resize(frame,(500,500))\n",
    "        #frame = cv2.flip(frame,1)\n",
    "        cv2.imshow(\"Video Frame\", frame)\n",
    "        if cv2.waitKey(1) & 0xFF == ord('q'):  # waitKey(0) = static , we can change the speed by changing the value in waitkey(unit : frame/s)\n",
    "            break\n",
    "    else:\n",
    "        break\n",
    "\n",
    "capture.release()\n",
    "cv2.destroyAllWindows()"
   ]
  },
  {
   "cell_type": "markdown",
   "id": "51c7408f",
   "metadata": {},
   "source": [
    "### Opening the device Camera"
   ]
  },
  {
   "cell_type": "code",
   "execution_count": 5,
   "id": "eb2baa9e",
   "metadata": {},
   "outputs": [],
   "source": [
    "capture = cv2.VideoCapture(0) # 0 is the default camera index, to open the camera\n",
    "while True :\n",
    "    ret, frame = capture.read()\n",
    "    if ret == True :\n",
    "        frame = cv2.resize(frame,(500,500))\n",
    "        frame = cv2.flip(frame,1)\n",
    "        cv2.imshow(\"Vodeo Frame\",frame)\n",
    "        if cv2.waitKey(25) & 0xFF == ord('q') : \n",
    "            break\n",
    "    else :\n",
    "        break\n",
    "\n",
    "capture.release()\n",
    "cv2.destroyAllWindows()\n"
   ]
  },
  {
   "cell_type": "markdown",
   "id": "5cec316f",
   "metadata": {},
   "source": [
    "### Save the video file\n"
   ]
  },
  {
   "cell_type": "code",
   "execution_count": null,
   "id": "9f7f336d",
   "metadata": {},
   "outputs": [],
   "source": [
    "\n",
    "capture = cv2.VideoCapture(0)  # Open the default camera\n",
    "\n",
    "f = cv2.VideoWriter_fourcc(*\"XVID\") \n",
    "# output = cv2.VideoWriter('output_video.avi', f, 30.0, (640, 480))\n",
    "output = cv2.VideoWriter('output_video.avi', f, 30.0, (640, 480), 0)  # Match this to resized frame, the last 0 converts all the three colors in the 0 color, to record in gray color we have to put 0\n",
    "\n",
    "while True:\n",
    "    ret, frame = capture.read()\n",
    "    if ret:\n",
    "        frame = cv2.cvtColor(frame, cv2.COLOR_BGR2GRAY) # this video will record in grsy color\n",
    "        frame = cv2.resize(frame, (640, 480))\n",
    "        frame = cv2.flip(frame, 1)\n",
    "        output.write(frame)\n",
    "        cv2.imshow(\"Video Frame\", frame)\n",
    "        if cv2.waitKey(1) & 0xFF == ord('q'):\n",
    "            break\n",
    "    else:\n",
    "        break\n",
    "\n",
    "capture.release()\n",
    "output.release()\n",
    "cv2.destroyAllWindows()\n"
   ]
  },
  {
   "cell_type": "markdown",
   "id": "d6fe0221",
   "metadata": {},
   "source": [
    "#### Color spaces:\n",
    "##### 1. RGB (Red, Green, Blue) in openCV it is BGR\n",
    "##### 2. CMYK (Cyan, Magenta, Yellow, Black)\n",
    "##### 3. HSV (Hue , Saturation, Value)\n",
    " "
   ]
  },
  {
   "cell_type": "code",
   "execution_count": null,
   "id": "783af774",
   "metadata": {},
   "outputs": [],
   "source": []
  }
 ],
 "metadata": {
  "kernelspec": {
   "display_name": "Python 3",
   "language": "python",
   "name": "python3"
  },
  "language_info": {
   "codemirror_mode": {
    "name": "ipython",
    "version": 3
   },
   "file_extension": ".py",
   "mimetype": "text/x-python",
   "name": "python",
   "nbconvert_exporter": "python",
   "pygments_lexer": "ipython3",
   "version": "3.12.10"
  }
 },
 "nbformat": 4,
 "nbformat_minor": 5
}
