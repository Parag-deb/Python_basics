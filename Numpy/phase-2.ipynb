{
 "cells": [
  {
   "cell_type": "code",
   "execution_count": 2,
   "id": "055616da",
   "metadata": {},
   "outputs": [],
   "source": [
    "import numpy as np"
   ]
  },
  {
   "cell_type": "markdown",
   "id": "6879d488",
   "metadata": {},
   "source": [
    "## Array "
   ]
  },
  {
   "cell_type": "code",
   "execution_count": 4,
   "id": "5657c60d",
   "metadata": {},
   "outputs": [
    {
     "name": "stdout",
     "output_type": "stream",
     "text": [
      "Specefic Element of 2D array:  6\n",
      "Entire Row :  [4 5 6]\n",
      "Entire Column :  [2 5 8]\n"
     ]
    }
   ],
   "source": [
    "\n",
    "arr_2d = np.array([[1,2,3],\n",
    "                    [4,5,6],\n",
    "                    [7,8,9]])\n",
    "print(\"Specefic Element of 2D array: \", arr_2d[1,2])\n",
    "\n",
    "print(\"Entire Row : \", arr_2d[1])\n",
    "print(\"Entire Column : \", arr_2d[:,1])"
   ]
  },
  {
   "cell_type": "markdown",
   "id": "b277fed0",
   "metadata": {},
   "source": [
    "### Sorting\n"
   ]
  },
  {
   "cell_type": "code",
   "execution_count": null,
   "id": "3af7cc90",
   "metadata": {},
   "outputs": [
    {
     "name": "stdout",
     "output_type": "stream",
     "text": [
      "Sorted array :  [1 1 1 2 3 3 4 5 6 9]\n",
      "Sorted array by column : \n",
      " [[1 1]\n",
      " [2 2]\n",
      " [3 3]]\n"
     ]
    }
   ],
   "source": [
    "unsorted = np.array([3,1,4,1,5,9,2,3,1,6])\n",
    "print(\"Sorted array : \", np.sort(unsorted))\n",
    "\n",
    "arr_2d = np.array([[3, 1], [1, 2], [2, 3]])\n",
    "print(\"Sorted array by column : \\n\", np.sort(arr_2d , axis=0))\n",
    "print(\"Sorted array by row : \\n\", np.sort(arr_2d , axis=1))"
   ]
  }
 ],
 "metadata": {
  "kernelspec": {
   "display_name": "Python 3",
   "language": "python",
   "name": "python3"
  },
  "language_info": {
   "codemirror_mode": {
    "name": "ipython",
    "version": 3
   },
   "file_extension": ".py",
   "mimetype": "text/x-python",
   "name": "python",
   "nbconvert_exporter": "python",
   "pygments_lexer": "ipython3",
   "version": "3.12.10"
  }
 },
 "nbformat": 4,
 "nbformat_minor": 5
}
