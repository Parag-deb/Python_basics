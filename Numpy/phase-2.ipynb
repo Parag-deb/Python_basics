{
 "cells": [
  {
   "cell_type": "code",
   "execution_count": 2,
   "id": "055616da",
   "metadata": {},
   "outputs": [],
   "source": [
    "import numpy as np"
   ]
  },
  {
   "cell_type": "markdown",
   "id": "6879d488",
   "metadata": {},
   "source": [
    "## Array "
   ]
  },
  {
   "cell_type": "code",
   "execution_count": 4,
   "id": "5657c60d",
   "metadata": {},
   "outputs": [
    {
     "name": "stdout",
     "output_type": "stream",
     "text": [
      "Specefic Element of 2D array:  6\n",
      "Entire Row :  [4 5 6]\n",
      "Entire Column :  [2 5 8]\n"
     ]
    }
   ],
   "source": [
    "\n",
    "arr_2d = np.array([[1,2,3],\n",
    "                    [4,5,6],\n",
    "                    [7,8,9]])\n",
    "print(\"Specefic Element of 2D array: \", arr_2d[1,2])\n",
    "\n",
    "print(\"Entire Row : \", arr_2d[1])\n",
    "print(\"Entire Column : \", arr_2d[:,1])"
   ]
  },
  {
   "cell_type": "markdown",
   "id": "b277fed0",
   "metadata": {},
   "source": [
    "### Sorting\n"
   ]
  },
  {
   "cell_type": "code",
   "execution_count": null,
   "id": "3af7cc90",
   "metadata": {},
   "outputs": [
    {
     "name": "stdout",
     "output_type": "stream",
     "text": [
      "Sorted array :  [1 1 1 2 3 3 4 5 6 9]\n",
      "Sorted array by column : \n",
      " [[1 1]\n",
      " [2 2]\n",
      " [3 3]]\n"
     ]
    }
   ],
   "source": [
    "unsorted = np.array([3,1,4,1,5,9,2,3,1,6])\n",
    "print(\"Sorted array : \", np.sort(unsorted))\n",
    "\n",
    "arr_2d = np.array([[3, 1], [1, 2], [2, 3]])\n",
    "print(\"Sorted array by column : \\n\", np.sort(arr_2d , axis=0))\n",
    "print(\"Sorted array by row : \\n\", np.sort(arr_2d , axis=1))"
   ]
  },
  {
   "cell_type": "markdown",
   "id": "57d9259e",
   "metadata": {},
   "source": [
    "### Filtering ANd Filter with Mask"
   ]
  },
  {
   "cell_type": "code",
   "execution_count": 14,
   "id": "5961acb1",
   "metadata": {},
   "outputs": [
    {
     "name": "stdout",
     "output_type": "stream",
     "text": [
      "Even numbers in the array:  [ 2  4  6  8 10]\n",
      "Numbers greater than 5:  [ 6  7  8  9 10]\n"
     ]
    }
   ],
   "source": [
    "numbers = np.array([1,2,3,4,5,6,7,8,9,10])\n",
    "even_number = numbers[numbers%2 == 0]\n",
    "print(\"Even numbers in the array: \", even_number)\n",
    "\n",
    "mask = numbers > 5\n",
    "print(\"Numbers greater than 5: \", numbers[mask])"
   ]
  },
  {
   "cell_type": "markdown",
   "id": "54729b39",
   "metadata": {},
   "source": [
    "### Fancy Indexing vs np.where()"
   ]
  },
  {
   "cell_type": "code",
   "execution_count": null,
   "id": "fd74eeae",
   "metadata": {},
   "outputs": [
    {
     "name": "stdout",
     "output_type": "stream",
     "text": [
      "[1 3 5]\n",
      "NP where result:  (array([5, 6, 7, 8, 9]),)\n",
      "Np where result for numbers:  [ 6  7  8  9 10]\n"
     ]
    }
   ],
   "source": [
    "indices  = [0,2,4]\n",
    "print(numbers[indices])\n",
    "\n",
    "where_result = np.where(numbers > 5)\n",
    "print(\"NP where result: \", where_result) # returns the positions\n",
    "print(\"Np where result for numbers: \" , numbers[where_result])\n"
   ]
  },
  {
   "cell_type": "code",
   "execution_count": 21,
   "id": "2be7db17",
   "metadata": {},
   "outputs": [
    {
     "name": "stdout",
     "output_type": "stream",
     "text": [
      "['false' 'false' 'false' 'false' 'false' 'true' 'true' 'true' 'true'\n",
      " 'true']\n",
      "condition array:  [ 1  2  3  4  5 12 14 16 18 20]\n"
     ]
    }
   ],
   "source": [
    "condition_array = np.where(numbers >5 , \"true\" , \"false\")\n",
    "print(condition_array)\n",
    "condition_array = np.where(numbers >5 , numbers*2 , numbers)\n",
    "print(\"condition array: \" , condition_array)"
   ]
  },
  {
   "cell_type": "markdown",
   "id": "3731c7e8",
   "metadata": {},
   "source": [
    "### Adding and Removing"
   ]
  },
  {
   "cell_type": "code",
   "execution_count": 24,
   "id": "6db6063c",
   "metadata": {},
   "outputs": [
    {
     "name": "stdout",
     "output_type": "stream",
     "text": [
      "[1 2 3 4 5 6]\n"
     ]
    }
   ],
   "source": [
    "arr1 = np.array([1,2,3])\n",
    "arr2 = np.array([4,5,6])\n",
    "combined = np.concatenate((arr1,arr2))\n",
    "print(combined)"
   ]
  },
  {
   "cell_type": "markdown",
   "id": "c90d45a7",
   "metadata": {},
   "source": [
    "## Array compatibility"
   ]
  },
  {
   "cell_type": "code",
   "execution_count": null,
   "id": "d559859d",
   "metadata": {},
   "outputs": [
    {
     "name": "stdout",
     "output_type": "stream",
     "text": [
      "Compatibility Shapes False\n"
     ]
    }
   ],
   "source": [
    "a = np.array([1,2,3])\n",
    "b = np.array([4,5,6,7])\n",
    "c = np.array([7,8,9])\n",
    "\n",
    "print(\"Compatibility Shapes\", a.shape == b.shape)"
   ]
  },
  {
   "cell_type": "code",
   "execution_count": 27,
   "id": "3aafceec",
   "metadata": {},
   "outputs": [
    {
     "name": "stdout",
     "output_type": "stream",
     "text": [
      "With new row: \n",
      " [[1 2]\n",
      " [3 4]\n",
      " [5 6]]\n",
      "With new column: \n",
      " [[1 2 7]\n",
      " [3 4 8]]\n"
     ]
    }
   ],
   "source": [
    "original = np.array([[1,2],[3,4]])\n",
    "new_row = np.array([5,6])\n",
    "with_new_row = np.vstack((original , new_row))\n",
    "print(\"With new row: \\n\", with_new_row)\n",
    "\n",
    "new_col = np.array([[7],[8]])\n",
    "with_new_col = np.hstack((original , new_col))\n",
    "print(\"With new column: \\n\", with_new_col)"
   ]
  }
 ],
 "metadata": {
  "kernelspec": {
   "display_name": "Python 3",
   "language": "python",
   "name": "python3"
  },
  "language_info": {
   "codemirror_mode": {
    "name": "ipython",
    "version": 3
   },
   "file_extension": ".py",
   "mimetype": "text/x-python",
   "name": "python",
   "nbconvert_exporter": "python",
   "pygments_lexer": "ipython3",
   "version": "3.12.10"
  }
 },
 "nbformat": 4,
 "nbformat_minor": 5
}
