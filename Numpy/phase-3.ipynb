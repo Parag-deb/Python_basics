{
 "cells": [
  {
   "cell_type": "code",
   "execution_count": 2,
   "id": "f7c661d1",
   "metadata": {},
   "outputs": [],
   "source": [
    "import numpy as np\n",
    "import matplotlib.pyplot as plt"
   ]
  },
  {
   "cell_type": "code",
   "execution_count": 7,
   "id": "be550672",
   "metadata": {},
   "outputs": [
    {
     "name": "stdout",
     "output_type": "stream",
     "text": [
      "\n",
      " Sales data shape:  (5, 5)\n",
      "\n",
      " Sample Data for !st 3 Restaurant:\n",
      " [[     1 150000 180000 220000 250000]\n",
      " [     2 120000 140000 160000 190000]\n",
      " [     3 200000 230000 260000 300000]]\n"
     ]
    }
   ],
   "source": [
    "sales_data = np.array([\n",
    "    [1, 150000, 180000, 220000, 250000],\n",
    "    [2, 120000, 140000, 160000, 190000],\n",
    "    [3, 200000, 230000, 260000, 300000],\n",
    "    [4, 180000, 210000, 240000, 270000],\n",
    "    [5, 160000, 185000, 205000, 230000]\n",
    "\n",
    "])\n",
    "\n",
    "\n",
    "print(\"\\n Sales data shape: \", sales_data.shape)\n",
    "\n",
    "print(\"\\n Sample Data for !st 3 Restaurant:\\n\",sales_data[0:3]) # slicing"
   ]
  }
 ],
 "metadata": {
  "kernelspec": {
   "display_name": "myenv",
   "language": "python",
   "name": "python3"
  },
  "language_info": {
   "codemirror_mode": {
    "name": "ipython",
    "version": 3
   },
   "file_extension": ".py",
   "mimetype": "text/x-python",
   "name": "python",
   "nbconvert_exporter": "python",
   "pygments_lexer": "ipython3",
   "version": "3.12.10"
  }
 },
 "nbformat": 4,
 "nbformat_minor": 5
}
