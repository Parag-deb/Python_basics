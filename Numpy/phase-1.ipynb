{
 "cells": [
  {
   "cell_type": "markdown",
   "id": "1276d7b7",
   "metadata": {},
   "source": [
    "## Numpy array and basics"
   ]
  },
  {
   "cell_type": "code",
   "execution_count": 10,
   "id": "5b031cd7",
   "metadata": {},
   "outputs": [],
   "source": [
    "import numpy as np"
   ]
  },
  {
   "cell_type": "markdown",
   "id": "5a82dadf",
   "metadata": {},
   "source": [
    "### Creating Array From List"
   ]
  },
  {
   "cell_type": "code",
   "execution_count": 11,
   "id": "f7110902",
   "metadata": {},
   "outputs": [
    {
     "name": "stdout",
     "output_type": "stream",
     "text": [
      "1D Array  [1 2 3 4 5]\n",
      "2D Array  [[1 2 3]\n",
      " [4 5 6]\n",
      " [7 8 9]]\n"
     ]
    }
   ],
   "source": [
    "arr_1d = np.array([1,2,3,4,5])\n",
    "print(\"1D Array \", arr_1d)\n",
    "\n",
    "arr_2d = np.array([[1,2,3],[4,5,6],[7,8, 9]])\n",
    "print(\"2D Array \", arr_2d)"
   ]
  },
  {
   "cell_type": "markdown",
   "id": "66c6dd30",
   "metadata": {},
   "source": [
    "### List vs Numpy array"
   ]
  },
  {
   "cell_type": "code",
   "execution_count": 12,
   "id": "50ce44c2",
   "metadata": {},
   "outputs": [
    {
     "name": "stdout",
     "output_type": "stream",
     "text": [
      "Pyhton list multiplication  [1, 2, 3, 1, 2, 3]\n",
      "Numpy array multiplication  [2 4 6]\n",
      "\n",
      " Python list multiplication time:  0.08919429779052734\n",
      "\n",
      " Numpy array multiplication time:  0.00399017333984375\n"
     ]
    }
   ],
   "source": [
    "py_list = [1,2,3]\n",
    "print(\"Pyhton list multiplication \", py_list*2)\n",
    "\n",
    "\n",
    "np_array = np.array([1,2,3]) # element wise multiplication\n",
    "print(\"Numpy array multiplication \", np_array*2)\n",
    "\n",
    "\n",
    "import time\n",
    "\n",
    "start= time.time()\n",
    "py_list = [i*2 for i in range(1000000)]\n",
    "print(\"\\n Python list multiplication time: \", time.time()-start)\n",
    "\n",
    "\n",
    "start = time.time()\n",
    "np_array = np.arange(1000000)*2\n",
    "print(\"\\n Numpy array multiplication time: \", time.time()-start)\n",
    "\n",
    "\n"
   ]
  }
 ],
 "metadata": {
  "kernelspec": {
   "display_name": "Python 3",
   "language": "python",
   "name": "python3"
  },
  "language_info": {
   "codemirror_mode": {
    "name": "ipython",
    "version": 3
   },
   "file_extension": ".py",
   "mimetype": "text/x-python",
   "name": "python",
   "nbconvert_exporter": "python",
   "pygments_lexer": "ipython3",
   "version": "3.12.10"
  }
 },
 "nbformat": 4,
 "nbformat_minor": 5
}
