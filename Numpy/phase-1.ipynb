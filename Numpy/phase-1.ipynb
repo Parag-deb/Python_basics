{
 "cells": [
  {
   "cell_type": "markdown",
   "id": "1276d7b7",
   "metadata": {},
   "source": [
    "## Numpy array and basics"
   ]
  },
  {
   "cell_type": "code",
   "execution_count": 10,
   "id": "5b031cd7",
   "metadata": {},
   "outputs": [],
   "source": [
    "import numpy as np"
   ]
  },
  {
   "cell_type": "markdown",
   "id": "5a82dadf",
   "metadata": {},
   "source": [
    "### Creating Array From List"
   ]
  },
  {
   "cell_type": "code",
   "execution_count": 11,
   "id": "f7110902",
   "metadata": {},
   "outputs": [
    {
     "name": "stdout",
     "output_type": "stream",
     "text": [
      "1D Array  [1 2 3 4 5]\n",
      "2D Array  [[1 2 3]\n",
      " [4 5 6]\n",
      " [7 8 9]]\n"
     ]
    }
   ],
   "source": [
    "arr_1d = np.array([1,2,3,4,5])\n",
    "print(\"1D Array \", arr_1d)\n",
    "\n",
    "arr_2d = np.array([[1,2,3],[4,5,6],[7,8, 9]])\n",
    "print(\"2D Array \", arr_2d)"
   ]
  },
  {
   "cell_type": "markdown",
   "id": "66c6dd30",
   "metadata": {},
   "source": [
    "### List vs Numpy array"
   ]
  },
  {
   "cell_type": "code",
   "execution_count": 12,
   "id": "50ce44c2",
   "metadata": {},
   "outputs": [
    {
     "name": "stdout",
     "output_type": "stream",
     "text": [
      "Pyhton list multiplication  [1, 2, 3, 1, 2, 3]\n",
      "Numpy array multiplication  [2 4 6]\n",
      "\n",
      " Python list multiplication time:  0.08919429779052734\n",
      "\n",
      " Numpy array multiplication time:  0.00399017333984375\n"
     ]
    }
   ],
   "source": [
    "py_list = [1,2,3]\n",
    "print(\"Pyhton list multiplication \", py_list*2)\n",
    "\n",
    "\n",
    "np_array = np.array([1,2,3]) # element wise multiplication\n",
    "print(\"Numpy array multiplication \", np_array*2)\n",
    "\n",
    "\n",
    "import time\n",
    "\n",
    "start= time.time()\n",
    "py_list = [i*2 for i in range(1000000)]\n",
    "print(\"\\n Python list multiplication time: \", time.time()-start)\n",
    "\n",
    "\n",
    "start = time.time()\n",
    "np_array = np.arange(1000000)*2\n",
    "print(\"\\n Numpy array multiplication time: \", time.time()-start)\n",
    "\n",
    "\n"
   ]
  },
  {
   "cell_type": "markdown",
   "id": "7ea51c1d",
   "metadata": {},
   "source": [
    "### Creating array from scratch"
   ]
  },
  {
   "cell_type": "code",
   "execution_count": null,
   "id": "001d331b",
   "metadata": {},
   "outputs": [
    {
     "name": "stdout",
     "output_type": "stream",
     "text": [
      "Zeros Array : \n",
      " [[0. 0. 0. 0.]\n",
      " [0. 0. 0. 0.]\n",
      " [0. 0. 0. 0.]]\n",
      "Ones Array : \n",
      " [[1. 1. 1. 1.]\n",
      " [1. 1. 1. 1.]\n",
      " [1. 1. 1. 1.]]\n",
      "Full Array : \n",
      " [[7 7 7 7]\n",
      " [7 7 7 7]\n",
      " [7 7 7 7]]\n",
      "Random Array : \n",
      " [[0.88920146 0.4364194  0.60086296]\n",
      " [0.00096272 0.89568453 0.92991096]]\n",
      "Sequence Array : \n",
      " [1 3 5 7 9]\n"
     ]
    }
   ],
   "source": [
    "zeros = np.zeros((3,4))\n",
    "print(\"Zeros Array : \\n\",zeros)\n",
    "\n",
    "ones = np.ones((3,4))\n",
    "print(\"Ones Array : \\n\",ones)\n",
    "\n",
    "full = np.full((3,4),7)\n",
    "print(\"Full Array : \\n\",full)\n",
    "\n",
    "\n",
    "random = np.random.random((2,3))\n",
    "print(\"Random Array : \\n\",random)\n",
    "\n",
    "\n",
    "sequence = np.arange(0,10,2)\n",
    "print(\"Sequence Array : \\n\",sequence)\n"
   ]
  }
 ],
 "metadata": {
  "kernelspec": {
   "display_name": "Python 3",
   "language": "python",
   "name": "python3"
  },
  "language_info": {
   "codemirror_mode": {
    "name": "ipython",
    "version": 3
   },
   "file_extension": ".py",
   "mimetype": "text/x-python",
   "name": "python",
   "nbconvert_exporter": "python",
   "pygments_lexer": "ipython3",
   "version": "3.12.10"
  }
 },
 "nbformat": 4,
 "nbformat_minor": 5
}
