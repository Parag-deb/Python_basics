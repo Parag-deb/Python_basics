{
 "cells": [
  {
   "cell_type": "markdown",
   "id": "1276d7b7",
   "metadata": {},
   "source": [
    "## Numpy array and basics"
   ]
  },
  {
   "cell_type": "code",
   "execution_count": 10,
   "id": "5b031cd7",
   "metadata": {},
   "outputs": [],
   "source": [
    "import numpy as np"
   ]
  },
  {
   "cell_type": "markdown",
   "id": "5a82dadf",
   "metadata": {},
   "source": [
    "### Creating Array From List"
   ]
  },
  {
   "cell_type": "code",
   "execution_count": 11,
   "id": "f7110902",
   "metadata": {},
   "outputs": [
    {
     "name": "stdout",
     "output_type": "stream",
     "text": [
      "1D Array  [1 2 3 4 5]\n",
      "2D Array  [[1 2 3]\n",
      " [4 5 6]\n",
      " [7 8 9]]\n"
     ]
    }
   ],
   "source": [
    "arr_1d = np.array([1,2,3,4,5])\n",
    "print(\"1D Array \", arr_1d)\n",
    "\n",
    "arr_2d = np.array([[1,2,3],[4,5,6],[7,8, 9]])\n",
    "print(\"2D Array \", arr_2d)"
   ]
  },
  {
   "cell_type": "markdown",
   "id": "66c6dd30",
   "metadata": {},
   "source": [
    "### List vs Numpy array"
   ]
  },
  {
   "cell_type": "code",
   "execution_count": 12,
   "id": "50ce44c2",
   "metadata": {},
   "outputs": [
    {
     "name": "stdout",
     "output_type": "stream",
     "text": [
      "Pyhton list multiplication  [1, 2, 3, 1, 2, 3]\n",
      "Numpy array multiplication  [2 4 6]\n",
      "\n",
      " Python list multiplication time:  0.08919429779052734\n",
      "\n",
      " Numpy array multiplication time:  0.00399017333984375\n"
     ]
    }
   ],
   "source": [
    "py_list = [1,2,3]\n",
    "print(\"Pyhton list multiplication \", py_list*2)\n",
    "\n",
    "\n",
    "np_array = np.array([1,2,3]) # element wise multiplication\n",
    "print(\"Numpy array multiplication \", np_array*2)\n",
    "\n",
    "\n",
    "import time\n",
    "\n",
    "start= time.time()\n",
    "py_list = [i*2 for i in range(1000000)]\n",
    "print(\"\\n Python list multiplication time: \", time.time()-start)\n",
    "\n",
    "\n",
    "start = time.time()\n",
    "np_array = np.arange(1000000)*2\n",
    "print(\"\\n Numpy array multiplication time: \", time.time()-start)\n",
    "\n",
    "\n"
   ]
  },
  {
   "cell_type": "markdown",
   "id": "7ea51c1d",
   "metadata": {},
   "source": [
    "### Creating array from scratch"
   ]
  },
  {
   "cell_type": "code",
   "execution_count": 18,
   "id": "001d331b",
   "metadata": {},
   "outputs": [
    {
     "name": "stdout",
     "output_type": "stream",
     "text": [
      "Zeros Array : \n",
      " [[0. 0. 0. 0.]\n",
      " [0. 0. 0. 0.]\n",
      " [0. 0. 0. 0.]]\n",
      "Ones Array : \n",
      " [[1. 1. 1. 1.]\n",
      " [1. 1. 1. 1.]\n",
      " [1. 1. 1. 1.]]\n",
      "Full Array : \n",
      " [[7 7 7 7]\n",
      " [7 7 7 7]\n",
      " [7 7 7 7]]\n",
      "Random Array : \n",
      " [[0.19597924 0.30627592 0.74741253]\n",
      " [0.93878888 0.42625049 0.35222385]]\n",
      "Sequence Array : \n",
      " [0 2 4 6 8]\n"
     ]
    }
   ],
   "source": [
    "zeros = np.zeros((3,4))\n",
    "print(\"Zeros Array : \\n\",zeros)\n",
    "\n",
    "ones = np.ones((3,4))\n",
    "print(\"Ones Array : \\n\",ones)\n",
    "\n",
    "full = np.full((3,4),7)\n",
    "print(\"Full Array : \\n\",full)\n",
    "\n",
    "\n",
    "random = np.random.random((2,3))\n",
    "print(\"Random Array : \\n\",random)\n",
    "\n",
    "\n",
    "sequence = np.arange(0,10,2)\n",
    "print(\"Sequence Array : \\n\",sequence)\n"
   ]
  },
  {
   "cell_type": "markdown",
   "id": "af55c345",
   "metadata": {},
   "source": [
    "### Vector, Matrix and Tensor"
   ]
  },
  {
   "cell_type": "code",
   "execution_count": 23,
   "id": "667dbc3d",
   "metadata": {},
   "outputs": [
    {
     "name": "stdout",
     "output_type": "stream",
     "text": [
      "Vector: \n",
      " [1 2 3]\n",
      "Matrix: \n",
      " [[1 2 3]\n",
      " [4 5 6]]\n",
      "Tensor: \n",
      " [[[1 2]\n",
      "  [3 4]]\n",
      "\n",
      " [[5 6]\n",
      "  [7 8]]]\n"
     ]
    }
   ],
   "source": [
    "vector = np.array([1,2,3])\n",
    "print(\"Vector: \\n\",vector)\n",
    "\n",
    "matrix = np.array([[1,2,3],\n",
    "                  [4,5,6]])\n",
    "print(\"Matrix: \\n\", matrix)\n",
    "\n",
    "tensor = np.array([[[1,2],[3,4]],\n",
    "                   [[5,6],[7,8]]])\n",
    "print(\"Tensor: \\n\", tensor)"
   ]
  },
  {
   "cell_type": "markdown",
   "id": "9aefad76",
   "metadata": {},
   "source": [
    "### Array Properties"
   ]
  },
  {
   "cell_type": "code",
   "execution_count": 25,
   "id": "d104e9a7",
   "metadata": {},
   "outputs": [
    {
     "name": "stdout",
     "output_type": "stream",
     "text": [
      "Shape  (2, 3)\n",
      "Dimension  2\n",
      "Size  6\n",
      "Data Type:  int64\n"
     ]
    }
   ],
   "source": [
    "arr = np.array([[1,2,3],\n",
    "                [4,5,6]])\n",
    "print(\"Shape \", arr.shape)\n",
    "print(\"Dimension \", arr.ndim)\n",
    "print(\"Size \", arr.size)\n",
    "print(\"Data Type: \", arr.dtype)\n"
   ]
  },
  {
   "cell_type": "markdown",
   "id": "2cab66a6",
   "metadata": {},
   "source": [
    "### Array Reshaping\n",
    "\n"
   ]
  },
  {
   "cell_type": "code",
   "execution_count": 35,
   "id": "35185f26",
   "metadata": {},
   "outputs": [
    {
     "name": "stdout",
     "output_type": "stream",
     "text": [
      "Original Array [ 0  1  2  3  4  5  6  7  8  9 10 11 12 13 14]\n",
      "\n",
      " Reshaped Array:  [[ 0  1  2  3  4]\n",
      " [ 5  6  7  8  9]\n",
      " [10 11 12 13 14]]\n",
      "\n",
      " Flattened Array:  [ 0  1  2  3  4  5  6  7  8  9 10 11 12 13 14]\n",
      "\n",
      " Raveled Array:  [ 0  1  2  3  4  5  6  7  8  9 10 11 12 13 14]\n",
      "\n",
      " Transposed Array:  [[ 0  5 10]\n",
      " [ 1  6 11]\n",
      " [ 2  7 12]\n",
      " [ 3  8 13]\n",
      " [ 4  9 14]]\n"
     ]
    }
   ],
   "source": [
    "arr = np.arange(15)\n",
    "print(\"Original Array\", arr)\n",
    "\n",
    "reshaped = arr.reshape((3,5))\n",
    "print(\"\\n Reshaped Array: \", reshaped)\n",
    "\n",
    "flattened = reshaped.flatten()\n",
    "print(\"\\n Flattened Array: \", flattened)\n",
    "\n",
    "\n",
    "# ravle(returns view instead of copy)\n",
    "raveled = reshaped.ravel()\n",
    "print(\"\\n Raveled Array: \", raveled)\n",
    "\n",
    "transpose = reshaped.T\n",
    "print(\"\\n Transposed Array: \", transpose)\n"
   ]
  }
 ],
 "metadata": {
  "kernelspec": {
   "display_name": "Python 3",
   "language": "python",
   "name": "python3"
  },
  "language_info": {
   "codemirror_mode": {
    "name": "ipython",
    "version": 3
   },
   "file_extension": ".py",
   "mimetype": "text/x-python",
   "name": "python",
   "nbconvert_exporter": "python",
   "pygments_lexer": "ipython3",
   "version": "3.12.10"
  }
 },
 "nbformat": 4,
 "nbformat_minor": 5
}
